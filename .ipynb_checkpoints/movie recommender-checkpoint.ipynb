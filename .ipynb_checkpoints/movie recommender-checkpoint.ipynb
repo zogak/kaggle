{
 "cells": [
  {
   "cell_type": "code",
   "execution_count": 2,
   "id": "da70f721",
   "metadata": {},
   "outputs": [],
   "source": [
    "%matplotlib inline\n",
    "\n",
    "import pandas as pd\n",
    "import numpy as np\n",
    "import matplotlib.pyplot as plt\n",
    "import seaborn as sns\n",
    "from scipy import stats\n",
    "from ast import literal_eval\n",
    "from sklearn.feature_extraction.text import TfidfVectorizer, CountVectorizer\n",
    "from sklearn.metrics.pairwise import linear_kernel, cosine_similarity\n",
    "from nltk.stem.snowball import SnowballStemmer\n",
    "from nltk.stem.wordnet import WordNetLemmatizer\n",
    "from nltk.corpus import wordnet\n",
    "from surprise import Reader, Dataset, SVD, accuracy\n",
    "\n",
    "import warnings; warnings.simplefilter('ignore')"
   ]
  },
  {
   "cell_type": "code",
   "execution_count": null,
   "id": "f63578b3",
   "metadata": {},
   "outputs": [],
   "source": [
    "#단순추천시스템 (평점순, 장르별)\n",
    "#TMDB ratings 사용"
   ]
  },
  {
   "cell_type": "code",
   "execution_count": 11,
   "id": "d0242931",
   "metadata": {},
   "outputs": [
    {
     "data": {
      "text/html": [
       "<div>\n",
       "<style scoped>\n",
       "    .dataframe tbody tr th:only-of-type {\n",
       "        vertical-align: middle;\n",
       "    }\n",
       "\n",
       "    .dataframe tbody tr th {\n",
       "        vertical-align: top;\n",
       "    }\n",
       "\n",
       "    .dataframe thead th {\n",
       "        text-align: right;\n",
       "    }\n",
       "</style>\n",
       "<table border=\"1\" class=\"dataframe\">\n",
       "  <thead>\n",
       "    <tr style=\"text-align: right;\">\n",
       "      <th></th>\n",
       "      <th>adult</th>\n",
       "      <th>belongs_to_collection</th>\n",
       "      <th>budget</th>\n",
       "      <th>genres</th>\n",
       "      <th>homepage</th>\n",
       "      <th>id</th>\n",
       "      <th>imdb_id</th>\n",
       "      <th>original_language</th>\n",
       "      <th>original_title</th>\n",
       "      <th>overview</th>\n",
       "      <th>...</th>\n",
       "      <th>release_date</th>\n",
       "      <th>revenue</th>\n",
       "      <th>runtime</th>\n",
       "      <th>spoken_languages</th>\n",
       "      <th>status</th>\n",
       "      <th>tagline</th>\n",
       "      <th>title</th>\n",
       "      <th>video</th>\n",
       "      <th>vote_average</th>\n",
       "      <th>vote_count</th>\n",
       "    </tr>\n",
       "  </thead>\n",
       "  <tbody>\n",
       "    <tr>\n",
       "      <th>0</th>\n",
       "      <td>False</td>\n",
       "      <td>{'id': 10194, 'name': 'Toy Story Collection', ...</td>\n",
       "      <td>30000000</td>\n",
       "      <td>[{'id': 16, 'name': 'Animation'}, {'id': 35, '...</td>\n",
       "      <td>http://toystory.disney.com/toy-story</td>\n",
       "      <td>862</td>\n",
       "      <td>tt0114709</td>\n",
       "      <td>en</td>\n",
       "      <td>Toy Story</td>\n",
       "      <td>Led by Woody, Andy's toys live happily in his ...</td>\n",
       "      <td>...</td>\n",
       "      <td>1995-10-30</td>\n",
       "      <td>373554033.0</td>\n",
       "      <td>81.0</td>\n",
       "      <td>[{'iso_639_1': 'en', 'name': 'English'}]</td>\n",
       "      <td>Released</td>\n",
       "      <td>NaN</td>\n",
       "      <td>Toy Story</td>\n",
       "      <td>False</td>\n",
       "      <td>7.7</td>\n",
       "      <td>5415.0</td>\n",
       "    </tr>\n",
       "    <tr>\n",
       "      <th>1</th>\n",
       "      <td>False</td>\n",
       "      <td>NaN</td>\n",
       "      <td>65000000</td>\n",
       "      <td>[{'id': 12, 'name': 'Adventure'}, {'id': 14, '...</td>\n",
       "      <td>NaN</td>\n",
       "      <td>8844</td>\n",
       "      <td>tt0113497</td>\n",
       "      <td>en</td>\n",
       "      <td>Jumanji</td>\n",
       "      <td>When siblings Judy and Peter discover an encha...</td>\n",
       "      <td>...</td>\n",
       "      <td>1995-12-15</td>\n",
       "      <td>262797249.0</td>\n",
       "      <td>104.0</td>\n",
       "      <td>[{'iso_639_1': 'en', 'name': 'English'}, {'iso...</td>\n",
       "      <td>Released</td>\n",
       "      <td>Roll the dice and unleash the excitement!</td>\n",
       "      <td>Jumanji</td>\n",
       "      <td>False</td>\n",
       "      <td>6.9</td>\n",
       "      <td>2413.0</td>\n",
       "    </tr>\n",
       "    <tr>\n",
       "      <th>2</th>\n",
       "      <td>False</td>\n",
       "      <td>{'id': 119050, 'name': 'Grumpy Old Men Collect...</td>\n",
       "      <td>0</td>\n",
       "      <td>[{'id': 10749, 'name': 'Romance'}, {'id': 35, ...</td>\n",
       "      <td>NaN</td>\n",
       "      <td>15602</td>\n",
       "      <td>tt0113228</td>\n",
       "      <td>en</td>\n",
       "      <td>Grumpier Old Men</td>\n",
       "      <td>A family wedding reignites the ancient feud be...</td>\n",
       "      <td>...</td>\n",
       "      <td>1995-12-22</td>\n",
       "      <td>0.0</td>\n",
       "      <td>101.0</td>\n",
       "      <td>[{'iso_639_1': 'en', 'name': 'English'}]</td>\n",
       "      <td>Released</td>\n",
       "      <td>Still Yelling. Still Fighting. Still Ready for...</td>\n",
       "      <td>Grumpier Old Men</td>\n",
       "      <td>False</td>\n",
       "      <td>6.5</td>\n",
       "      <td>92.0</td>\n",
       "    </tr>\n",
       "    <tr>\n",
       "      <th>3</th>\n",
       "      <td>False</td>\n",
       "      <td>NaN</td>\n",
       "      <td>16000000</td>\n",
       "      <td>[{'id': 35, 'name': 'Comedy'}, {'id': 18, 'nam...</td>\n",
       "      <td>NaN</td>\n",
       "      <td>31357</td>\n",
       "      <td>tt0114885</td>\n",
       "      <td>en</td>\n",
       "      <td>Waiting to Exhale</td>\n",
       "      <td>Cheated on, mistreated and stepped on, the wom...</td>\n",
       "      <td>...</td>\n",
       "      <td>1995-12-22</td>\n",
       "      <td>81452156.0</td>\n",
       "      <td>127.0</td>\n",
       "      <td>[{'iso_639_1': 'en', 'name': 'English'}]</td>\n",
       "      <td>Released</td>\n",
       "      <td>Friends are the people who let you be yourself...</td>\n",
       "      <td>Waiting to Exhale</td>\n",
       "      <td>False</td>\n",
       "      <td>6.1</td>\n",
       "      <td>34.0</td>\n",
       "    </tr>\n",
       "    <tr>\n",
       "      <th>4</th>\n",
       "      <td>False</td>\n",
       "      <td>{'id': 96871, 'name': 'Father of the Bride Col...</td>\n",
       "      <td>0</td>\n",
       "      <td>[{'id': 35, 'name': 'Comedy'}]</td>\n",
       "      <td>NaN</td>\n",
       "      <td>11862</td>\n",
       "      <td>tt0113041</td>\n",
       "      <td>en</td>\n",
       "      <td>Father of the Bride Part II</td>\n",
       "      <td>Just when George Banks has recovered from his ...</td>\n",
       "      <td>...</td>\n",
       "      <td>1995-02-10</td>\n",
       "      <td>76578911.0</td>\n",
       "      <td>106.0</td>\n",
       "      <td>[{'iso_639_1': 'en', 'name': 'English'}]</td>\n",
       "      <td>Released</td>\n",
       "      <td>Just When His World Is Back To Normal... He's ...</td>\n",
       "      <td>Father of the Bride Part II</td>\n",
       "      <td>False</td>\n",
       "      <td>5.7</td>\n",
       "      <td>173.0</td>\n",
       "    </tr>\n",
       "  </tbody>\n",
       "</table>\n",
       "<p>5 rows × 24 columns</p>\n",
       "</div>"
      ],
      "text/plain": [
       "   adult                              belongs_to_collection    budget  \\\n",
       "0  False  {'id': 10194, 'name': 'Toy Story Collection', ...  30000000   \n",
       "1  False                                                NaN  65000000   \n",
       "2  False  {'id': 119050, 'name': 'Grumpy Old Men Collect...         0   \n",
       "3  False                                                NaN  16000000   \n",
       "4  False  {'id': 96871, 'name': 'Father of the Bride Col...         0   \n",
       "\n",
       "                                              genres  \\\n",
       "0  [{'id': 16, 'name': 'Animation'}, {'id': 35, '...   \n",
       "1  [{'id': 12, 'name': 'Adventure'}, {'id': 14, '...   \n",
       "2  [{'id': 10749, 'name': 'Romance'}, {'id': 35, ...   \n",
       "3  [{'id': 35, 'name': 'Comedy'}, {'id': 18, 'nam...   \n",
       "4                     [{'id': 35, 'name': 'Comedy'}]   \n",
       "\n",
       "                               homepage     id    imdb_id original_language  \\\n",
       "0  http://toystory.disney.com/toy-story    862  tt0114709                en   \n",
       "1                                   NaN   8844  tt0113497                en   \n",
       "2                                   NaN  15602  tt0113228                en   \n",
       "3                                   NaN  31357  tt0114885                en   \n",
       "4                                   NaN  11862  tt0113041                en   \n",
       "\n",
       "                original_title  \\\n",
       "0                    Toy Story   \n",
       "1                      Jumanji   \n",
       "2             Grumpier Old Men   \n",
       "3            Waiting to Exhale   \n",
       "4  Father of the Bride Part II   \n",
       "\n",
       "                                            overview  ... release_date  \\\n",
       "0  Led by Woody, Andy's toys live happily in his ...  ...   1995-10-30   \n",
       "1  When siblings Judy and Peter discover an encha...  ...   1995-12-15   \n",
       "2  A family wedding reignites the ancient feud be...  ...   1995-12-22   \n",
       "3  Cheated on, mistreated and stepped on, the wom...  ...   1995-12-22   \n",
       "4  Just when George Banks has recovered from his ...  ...   1995-02-10   \n",
       "\n",
       "       revenue runtime                                   spoken_languages  \\\n",
       "0  373554033.0    81.0           [{'iso_639_1': 'en', 'name': 'English'}]   \n",
       "1  262797249.0   104.0  [{'iso_639_1': 'en', 'name': 'English'}, {'iso...   \n",
       "2          0.0   101.0           [{'iso_639_1': 'en', 'name': 'English'}]   \n",
       "3   81452156.0   127.0           [{'iso_639_1': 'en', 'name': 'English'}]   \n",
       "4   76578911.0   106.0           [{'iso_639_1': 'en', 'name': 'English'}]   \n",
       "\n",
       "     status                                            tagline  \\\n",
       "0  Released                                                NaN   \n",
       "1  Released          Roll the dice and unleash the excitement!   \n",
       "2  Released  Still Yelling. Still Fighting. Still Ready for...   \n",
       "3  Released  Friends are the people who let you be yourself...   \n",
       "4  Released  Just When His World Is Back To Normal... He's ...   \n",
       "\n",
       "                         title  video vote_average vote_count  \n",
       "0                    Toy Story  False          7.7     5415.0  \n",
       "1                      Jumanji  False          6.9     2413.0  \n",
       "2             Grumpier Old Men  False          6.5       92.0  \n",
       "3            Waiting to Exhale  False          6.1       34.0  \n",
       "4  Father of the Bride Part II  False          5.7      173.0  \n",
       "\n",
       "[5 rows x 24 columns]"
      ]
     },
     "execution_count": 11,
     "metadata": {},
     "output_type": "execute_result"
    }
   ],
   "source": [
    "md = pd.read_csv('/Users/zogak/movie_archive/movies_metadata.csv')\n",
    "md.head()"
   ]
  },
  {
   "cell_type": "code",
   "execution_count": 12,
   "id": "8091ae42",
   "metadata": {},
   "outputs": [
    {
     "name": "stdout",
     "output_type": "stream",
     "text": [
      "0     [Animation, Comedy, Family]\n",
      "1    [Adventure, Fantasy, Family]\n",
      "2               [Romance, Comedy]\n",
      "3        [Comedy, Drama, Romance]\n",
      "4                        [Comedy]\n",
      "Name: genres, dtype: object\n"
     ]
    }
   ],
   "source": [
    "#dictionary안에 담겨있는 Genre정보를 List형태로 \n",
    "md['genres'] = md['genres'].fillna('[]').apply(literal_eval).apply(lambda x : [i['name'] for i in x] if isinstance(x, list) else [])\n",
    "\n",
    "print(md['genres'].head())"
   ]
  },
  {
   "cell_type": "code",
   "execution_count": 9,
   "id": "27095e7e",
   "metadata": {},
   "outputs": [],
   "source": [
    "#m : 영화가 차트에 오르기 위해 얻어야 하는 최소 투표 수\n",
    "# -> 전체 영화의 95% 이상의 투표를 얻어야 한다고 가정"
   ]
  },
  {
   "cell_type": "code",
   "execution_count": 13,
   "id": "1cb73d77",
   "metadata": {},
   "outputs": [
    {
     "data": {
      "text/plain": [
       "5.244896612406511"
      ]
     },
     "execution_count": 13,
     "metadata": {},
     "output_type": "execute_result"
    }
   ],
   "source": [
    "vote_counts = md[md['vote_count'].notnull()]['vote_count'].astype('int')\n",
    "vote_averages = md[md['vote_average'].notnull()]['vote_average'].astype('int')\n",
    "C = vote_averages.mean()\n",
    "C"
   ]
  },
  {
   "cell_type": "code",
   "execution_count": 14,
   "id": "4e2b407b",
   "metadata": {},
   "outputs": [
    {
     "data": {
      "text/plain": [
       "434.0"
      ]
     },
     "execution_count": 14,
     "metadata": {},
     "output_type": "execute_result"
    }
   ],
   "source": [
    "#상위 5%에 해당하는 값\n",
    "m = vote_counts.quantile(0.95)\n",
    "m"
   ]
  },
  {
   "cell_type": "code",
   "execution_count": 15,
   "id": "cbd61b97",
   "metadata": {},
   "outputs": [
    {
     "name": "stdout",
     "output_type": "stream",
     "text": [
      "0    1995\n",
      "1    1995\n",
      "2    1995\n",
      "3    1995\n",
      "4    1995\n",
      "Name: year, dtype: object\n"
     ]
    }
   ],
   "source": [
    "#release date에서 연도만 추출\n",
    "md['year'] = pd.to_datetime(md['release_date'], errors='coerce').apply(lambda x : str(x).split('-')[0] if x != np.nan else np.nan)\n",
    "print(md['year'].head())"
   ]
  },
  {
   "cell_type": "code",
   "execution_count": 16,
   "id": "bea5b4be",
   "metadata": {},
   "outputs": [
    {
     "data": {
      "text/plain": [
       "(2274, 6)"
      ]
     },
     "execution_count": 16,
     "metadata": {},
     "output_type": "execute_result"
    }
   ],
   "source": [
    "#상위 5%까지 데이터 추출\n",
    "qualified = md[(md['vote_count'] >= m) & (md['vote_count'].notnull()) & (md['vote_average'].notnull())][['title','year','vote_count','vote_average','popularity','genres']]\n",
    "qualified['vote_count'] = qualified['vote_count'].astype('int')\n",
    "qualified['vote_average'] = qualified['vote_average'].astype('int')\n",
    "qualified.shape"
   ]
  },
  {
   "cell_type": "code",
   "execution_count": 15,
   "id": "9b26cb93",
   "metadata": {},
   "outputs": [],
   "source": [
    "#차트에 오르려면 434개 이상의 평가를 받아야 함\n",
    "#영화 평균 평점은 10점 만점에 5.244\n",
    "#2274편의 영화가 차트에 올랐음"
   ]
  },
  {
   "cell_type": "code",
   "execution_count": null,
   "id": "0381db67",
   "metadata": {},
   "outputs": [],
   "source": [
    "#v : 영화에 대한 평가 수\n",
    "#m : 차트에 오르기 위해 가져야하는 최소 평가 수\n",
    "#R : 영화 평점\n",
    "#C : 전체 영화에 대한 평균 평점"
   ]
  },
  {
   "cell_type": "code",
   "execution_count": 17,
   "id": "445cf3fb",
   "metadata": {},
   "outputs": [],
   "source": [
    "def weighted_rating(x):\n",
    "    v = x['vote_count']\n",
    "    R = x['vote_average']\n",
    "    return (v/(v+m) * R) + (m/(m+v) * C)"
   ]
  },
  {
   "cell_type": "code",
   "execution_count": 18,
   "id": "175523a8",
   "metadata": {},
   "outputs": [],
   "source": [
    "qualified['wr'] = qualified.apply(weighted_rating, axis=1)"
   ]
  },
  {
   "cell_type": "code",
   "execution_count": 19,
   "id": "994be3cd",
   "metadata": {},
   "outputs": [],
   "source": [
    "#weighted rating 상위 250개 영화\n",
    "qualified = qualified.sort_values('wr', ascending=False).head(250)"
   ]
  },
  {
   "cell_type": "code",
   "execution_count": 19,
   "id": "874820b7",
   "metadata": {},
   "outputs": [
    {
     "data": {
      "text/html": [
       "<div>\n",
       "<style scoped>\n",
       "    .dataframe tbody tr th:only-of-type {\n",
       "        vertical-align: middle;\n",
       "    }\n",
       "\n",
       "    .dataframe tbody tr th {\n",
       "        vertical-align: top;\n",
       "    }\n",
       "\n",
       "    .dataframe thead th {\n",
       "        text-align: right;\n",
       "    }\n",
       "</style>\n",
       "<table border=\"1\" class=\"dataframe\">\n",
       "  <thead>\n",
       "    <tr style=\"text-align: right;\">\n",
       "      <th></th>\n",
       "      <th>title</th>\n",
       "      <th>year</th>\n",
       "      <th>vote_count</th>\n",
       "      <th>vote_average</th>\n",
       "      <th>popularity</th>\n",
       "      <th>genres</th>\n",
       "      <th>wr</th>\n",
       "    </tr>\n",
       "  </thead>\n",
       "  <tbody>\n",
       "    <tr>\n",
       "      <th>15480</th>\n",
       "      <td>Inception</td>\n",
       "      <td>2010</td>\n",
       "      <td>14075</td>\n",
       "      <td>8</td>\n",
       "      <td>29.108149</td>\n",
       "      <td>[Action, Thriller, Science Fiction, Mystery, A...</td>\n",
       "      <td>7.917588</td>\n",
       "    </tr>\n",
       "    <tr>\n",
       "      <th>12481</th>\n",
       "      <td>The Dark Knight</td>\n",
       "      <td>2008</td>\n",
       "      <td>12269</td>\n",
       "      <td>8</td>\n",
       "      <td>123.167259</td>\n",
       "      <td>[Drama, Action, Crime, Thriller]</td>\n",
       "      <td>7.905871</td>\n",
       "    </tr>\n",
       "    <tr>\n",
       "      <th>22879</th>\n",
       "      <td>Interstellar</td>\n",
       "      <td>2014</td>\n",
       "      <td>11187</td>\n",
       "      <td>8</td>\n",
       "      <td>32.213481</td>\n",
       "      <td>[Adventure, Drama, Science Fiction]</td>\n",
       "      <td>7.897107</td>\n",
       "    </tr>\n",
       "    <tr>\n",
       "      <th>2843</th>\n",
       "      <td>Fight Club</td>\n",
       "      <td>1999</td>\n",
       "      <td>9678</td>\n",
       "      <td>8</td>\n",
       "      <td>63.869599</td>\n",
       "      <td>[Drama]</td>\n",
       "      <td>7.881753</td>\n",
       "    </tr>\n",
       "    <tr>\n",
       "      <th>4863</th>\n",
       "      <td>The Lord of the Rings: The Fellowship of the Ring</td>\n",
       "      <td>2001</td>\n",
       "      <td>8892</td>\n",
       "      <td>8</td>\n",
       "      <td>32.070725</td>\n",
       "      <td>[Adventure, Fantasy, Action]</td>\n",
       "      <td>7.871787</td>\n",
       "    </tr>\n",
       "    <tr>\n",
       "      <th>292</th>\n",
       "      <td>Pulp Fiction</td>\n",
       "      <td>1994</td>\n",
       "      <td>8670</td>\n",
       "      <td>8</td>\n",
       "      <td>140.950236</td>\n",
       "      <td>[Thriller, Crime]</td>\n",
       "      <td>7.868660</td>\n",
       "    </tr>\n",
       "    <tr>\n",
       "      <th>314</th>\n",
       "      <td>The Shawshank Redemption</td>\n",
       "      <td>1994</td>\n",
       "      <td>8358</td>\n",
       "      <td>8</td>\n",
       "      <td>51.645403</td>\n",
       "      <td>[Drama, Crime]</td>\n",
       "      <td>7.864000</td>\n",
       "    </tr>\n",
       "    <tr>\n",
       "      <th>7000</th>\n",
       "      <td>The Lord of the Rings: The Return of the King</td>\n",
       "      <td>2003</td>\n",
       "      <td>8226</td>\n",
       "      <td>8</td>\n",
       "      <td>29.324358</td>\n",
       "      <td>[Adventure, Fantasy, Action]</td>\n",
       "      <td>7.861927</td>\n",
       "    </tr>\n",
       "    <tr>\n",
       "      <th>351</th>\n",
       "      <td>Forrest Gump</td>\n",
       "      <td>1994</td>\n",
       "      <td>8147</td>\n",
       "      <td>8</td>\n",
       "      <td>48.307194</td>\n",
       "      <td>[Comedy, Drama, Romance]</td>\n",
       "      <td>7.860656</td>\n",
       "    </tr>\n",
       "    <tr>\n",
       "      <th>5814</th>\n",
       "      <td>The Lord of the Rings: The Two Towers</td>\n",
       "      <td>2002</td>\n",
       "      <td>7641</td>\n",
       "      <td>8</td>\n",
       "      <td>29.423537</td>\n",
       "      <td>[Adventure, Fantasy, Action]</td>\n",
       "      <td>7.851924</td>\n",
       "    </tr>\n",
       "    <tr>\n",
       "      <th>256</th>\n",
       "      <td>Star Wars</td>\n",
       "      <td>1977</td>\n",
       "      <td>6778</td>\n",
       "      <td>8</td>\n",
       "      <td>42.149697</td>\n",
       "      <td>[Adventure, Action, Science Fiction]</td>\n",
       "      <td>7.834205</td>\n",
       "    </tr>\n",
       "    <tr>\n",
       "      <th>1225</th>\n",
       "      <td>Back to the Future</td>\n",
       "      <td>1985</td>\n",
       "      <td>6239</td>\n",
       "      <td>8</td>\n",
       "      <td>25.778509</td>\n",
       "      <td>[Adventure, Comedy, Science Fiction, Family]</td>\n",
       "      <td>7.820813</td>\n",
       "    </tr>\n",
       "    <tr>\n",
       "      <th>834</th>\n",
       "      <td>The Godfather</td>\n",
       "      <td>1972</td>\n",
       "      <td>6024</td>\n",
       "      <td>8</td>\n",
       "      <td>41.109264</td>\n",
       "      <td>[Drama, Crime]</td>\n",
       "      <td>7.814847</td>\n",
       "    </tr>\n",
       "    <tr>\n",
       "      <th>1154</th>\n",
       "      <td>The Empire Strikes Back</td>\n",
       "      <td>1980</td>\n",
       "      <td>5998</td>\n",
       "      <td>8</td>\n",
       "      <td>19.470959</td>\n",
       "      <td>[Adventure, Action, Science Fiction]</td>\n",
       "      <td>7.814099</td>\n",
       "    </tr>\n",
       "    <tr>\n",
       "      <th>46</th>\n",
       "      <td>Se7en</td>\n",
       "      <td>1995</td>\n",
       "      <td>5915</td>\n",
       "      <td>8</td>\n",
       "      <td>18.45743</td>\n",
       "      <td>[Crime, Mystery, Thriller]</td>\n",
       "      <td>7.811669</td>\n",
       "    </tr>\n",
       "  </tbody>\n",
       "</table>\n",
       "</div>"
      ],
      "text/plain": [
       "                                                   title  year  vote_count  \\\n",
       "15480                                          Inception  2010       14075   \n",
       "12481                                    The Dark Knight  2008       12269   \n",
       "22879                                       Interstellar  2014       11187   \n",
       "2843                                          Fight Club  1999        9678   \n",
       "4863   The Lord of the Rings: The Fellowship of the Ring  2001        8892   \n",
       "292                                         Pulp Fiction  1994        8670   \n",
       "314                             The Shawshank Redemption  1994        8358   \n",
       "7000       The Lord of the Rings: The Return of the King  2003        8226   \n",
       "351                                         Forrest Gump  1994        8147   \n",
       "5814               The Lord of the Rings: The Two Towers  2002        7641   \n",
       "256                                            Star Wars  1977        6778   \n",
       "1225                                  Back to the Future  1985        6239   \n",
       "834                                        The Godfather  1972        6024   \n",
       "1154                             The Empire Strikes Back  1980        5998   \n",
       "46                                                 Se7en  1995        5915   \n",
       "\n",
       "       vote_average  popularity  \\\n",
       "15480             8   29.108149   \n",
       "12481             8  123.167259   \n",
       "22879             8   32.213481   \n",
       "2843              8   63.869599   \n",
       "4863              8   32.070725   \n",
       "292               8  140.950236   \n",
       "314               8   51.645403   \n",
       "7000              8   29.324358   \n",
       "351               8   48.307194   \n",
       "5814              8   29.423537   \n",
       "256               8   42.149697   \n",
       "1225              8   25.778509   \n",
       "834               8   41.109264   \n",
       "1154              8   19.470959   \n",
       "46                8    18.45743   \n",
       "\n",
       "                                                  genres        wr  \n",
       "15480  [Action, Thriller, Science Fiction, Mystery, A...  7.917588  \n",
       "12481                   [Drama, Action, Crime, Thriller]  7.905871  \n",
       "22879                [Adventure, Drama, Science Fiction]  7.897107  \n",
       "2843                                             [Drama]  7.881753  \n",
       "4863                        [Adventure, Fantasy, Action]  7.871787  \n",
       "292                                    [Thriller, Crime]  7.868660  \n",
       "314                                       [Drama, Crime]  7.864000  \n",
       "7000                        [Adventure, Fantasy, Action]  7.861927  \n",
       "351                             [Comedy, Drama, Romance]  7.860656  \n",
       "5814                        [Adventure, Fantasy, Action]  7.851924  \n",
       "256                 [Adventure, Action, Science Fiction]  7.834205  \n",
       "1225        [Adventure, Comedy, Science Fiction, Family]  7.820813  \n",
       "834                                       [Drama, Crime]  7.814847  \n",
       "1154                [Adventure, Action, Science Fiction]  7.814099  \n",
       "46                            [Crime, Mystery, Thriller]  7.811669  "
      ]
     },
     "execution_count": 19,
     "metadata": {},
     "output_type": "execute_result"
    }
   ],
   "source": [
    "qualified.head(15)"
   ]
  },
  {
   "cell_type": "code",
   "execution_count": 20,
   "id": "823ccc22",
   "metadata": {},
   "outputs": [],
   "source": [
    "s = md.apply(lambda x : pd.Series(x['genres']), axis=1).stack().reset_index(level=1, drop=True)\n",
    "s.name = 'genre'\n",
    "\n",
    "gen_md = md.drop('genres', axis=1).join(s)"
   ]
  },
  {
   "cell_type": "code",
   "execution_count": 21,
   "id": "03dd867a",
   "metadata": {},
   "outputs": [],
   "source": [
    "def build_chart(genre, percentile=0.85):\n",
    "    df = gen_md[gen_md['genre'] == genre]\n",
    "    vote_counts = df[df['vote_count'].notnull()]['vote_count'].astype('int')\n",
    "    vote_averages = df[df['vote_average'].notnull()]['vote_average'].astype('int')\n",
    "    C = vote_averages.mean()\n",
    "    m = vote_counts.quantile(percentile)\n",
    "    \n",
    "    qualified = df[ (df['vote_count'] >=m) & (df['vote_count'].notnull()) & (df['vote_average'].notnull())][['title','year','vote_count','vote_average','popularity']]\n",
    "    qualified['vote_count'] = qualified['vote_count'].astype('int')\n",
    "    qualified['vote_average'] = qualified['vote_average'].astype('int')\n",
    "    qualified['wr'] = qualified.apply(lambda x :(x['vote_count']/(x['vote_count']+m) * x['vote_average']) + (m/(m+x['vote_count'])*C), axis=1)\n",
    "    qualified = qualified.sort_values('wr', ascending=False).head(250)\n",
    "    \n",
    "    return qualified"
   ]
  },
  {
   "cell_type": "code",
   "execution_count": 24,
   "id": "ac5e69e6",
   "metadata": {},
   "outputs": [
    {
     "data": {
      "text/html": [
       "<div>\n",
       "<style scoped>\n",
       "    .dataframe tbody tr th:only-of-type {\n",
       "        vertical-align: middle;\n",
       "    }\n",
       "\n",
       "    .dataframe tbody tr th {\n",
       "        vertical-align: top;\n",
       "    }\n",
       "\n",
       "    .dataframe thead th {\n",
       "        text-align: right;\n",
       "    }\n",
       "</style>\n",
       "<table border=\"1\" class=\"dataframe\">\n",
       "  <thead>\n",
       "    <tr style=\"text-align: right;\">\n",
       "      <th></th>\n",
       "      <th>title</th>\n",
       "      <th>year</th>\n",
       "      <th>vote_count</th>\n",
       "      <th>vote_average</th>\n",
       "      <th>popularity</th>\n",
       "      <th>wr</th>\n",
       "    </tr>\n",
       "  </thead>\n",
       "  <tbody>\n",
       "    <tr>\n",
       "      <th>10309</th>\n",
       "      <td>Dilwale Dulhania Le Jayenge</td>\n",
       "      <td>1995</td>\n",
       "      <td>661</td>\n",
       "      <td>9</td>\n",
       "      <td>34.457024</td>\n",
       "      <td>8.565285</td>\n",
       "    </tr>\n",
       "    <tr>\n",
       "      <th>351</th>\n",
       "      <td>Forrest Gump</td>\n",
       "      <td>1994</td>\n",
       "      <td>8147</td>\n",
       "      <td>8</td>\n",
       "      <td>48.307194</td>\n",
       "      <td>7.971357</td>\n",
       "    </tr>\n",
       "    <tr>\n",
       "      <th>876</th>\n",
       "      <td>Vertigo</td>\n",
       "      <td>1958</td>\n",
       "      <td>1162</td>\n",
       "      <td>8</td>\n",
       "      <td>18.20822</td>\n",
       "      <td>7.811667</td>\n",
       "    </tr>\n",
       "    <tr>\n",
       "      <th>40251</th>\n",
       "      <td>Your Name.</td>\n",
       "      <td>2016</td>\n",
       "      <td>1030</td>\n",
       "      <td>8</td>\n",
       "      <td>34.461252</td>\n",
       "      <td>7.789489</td>\n",
       "    </tr>\n",
       "    <tr>\n",
       "      <th>883</th>\n",
       "      <td>Some Like It Hot</td>\n",
       "      <td>1959</td>\n",
       "      <td>835</td>\n",
       "      <td>8</td>\n",
       "      <td>11.845107</td>\n",
       "      <td>7.745154</td>\n",
       "    </tr>\n",
       "    <tr>\n",
       "      <th>1132</th>\n",
       "      <td>Cinema Paradiso</td>\n",
       "      <td>1988</td>\n",
       "      <td>834</td>\n",
       "      <td>8</td>\n",
       "      <td>14.177005</td>\n",
       "      <td>7.744878</td>\n",
       "    </tr>\n",
       "    <tr>\n",
       "      <th>19901</th>\n",
       "      <td>Paperman</td>\n",
       "      <td>2012</td>\n",
       "      <td>734</td>\n",
       "      <td>8</td>\n",
       "      <td>7.198633</td>\n",
       "      <td>7.713951</td>\n",
       "    </tr>\n",
       "    <tr>\n",
       "      <th>37863</th>\n",
       "      <td>Sing Street</td>\n",
       "      <td>2016</td>\n",
       "      <td>669</td>\n",
       "      <td>8</td>\n",
       "      <td>10.672862</td>\n",
       "      <td>7.689483</td>\n",
       "    </tr>\n",
       "    <tr>\n",
       "      <th>882</th>\n",
       "      <td>The Apartment</td>\n",
       "      <td>1960</td>\n",
       "      <td>498</td>\n",
       "      <td>8</td>\n",
       "      <td>11.994281</td>\n",
       "      <td>7.599317</td>\n",
       "    </tr>\n",
       "    <tr>\n",
       "      <th>38718</th>\n",
       "      <td>The Handmaiden</td>\n",
       "      <td>2016</td>\n",
       "      <td>453</td>\n",
       "      <td>8</td>\n",
       "      <td>16.727405</td>\n",
       "      <td>7.566166</td>\n",
       "    </tr>\n",
       "  </tbody>\n",
       "</table>\n",
       "</div>"
      ],
      "text/plain": [
       "                             title  year  vote_count  vote_average popularity  \\\n",
       "10309  Dilwale Dulhania Le Jayenge  1995         661             9  34.457024   \n",
       "351                   Forrest Gump  1994        8147             8  48.307194   \n",
       "876                        Vertigo  1958        1162             8   18.20822   \n",
       "40251                   Your Name.  2016        1030             8  34.461252   \n",
       "883               Some Like It Hot  1959         835             8  11.845107   \n",
       "1132               Cinema Paradiso  1988         834             8  14.177005   \n",
       "19901                     Paperman  2012         734             8   7.198633   \n",
       "37863                  Sing Street  2016         669             8  10.672862   \n",
       "882                  The Apartment  1960         498             8  11.994281   \n",
       "38718               The Handmaiden  2016         453             8  16.727405   \n",
       "\n",
       "             wr  \n",
       "10309  8.565285  \n",
       "351    7.971357  \n",
       "876    7.811667  \n",
       "40251  7.789489  \n",
       "883    7.745154  \n",
       "1132   7.744878  \n",
       "19901  7.713951  \n",
       "37863  7.689483  \n",
       "882    7.599317  \n",
       "38718  7.566166  "
      ]
     },
     "execution_count": 24,
     "metadata": {},
     "output_type": "execute_result"
    }
   ],
   "source": [
    "build_chart('Romance').head(10)"
   ]
  },
  {
   "cell_type": "code",
   "execution_count": 25,
   "id": "78404170",
   "metadata": {},
   "outputs": [],
   "source": [
    "#콘텐츠 기반 추천"
   ]
  },
  {
   "cell_type": "code",
   "execution_count": 8,
   "id": "fb7bd97c",
   "metadata": {},
   "outputs": [
    {
     "data": {
      "text/plain": [
       "0      862\n",
       "1     8844\n",
       "2    15602\n",
       "3    31357\n",
       "4    11862\n",
       "Name: tmdbId, dtype: int64"
      ]
     },
     "execution_count": 8,
     "metadata": {},
     "output_type": "execute_result"
    }
   ],
   "source": [
    "links_small = pd.read_csv('/Users/zogak/movie_archive/links_small.csv')\n",
    "links_small = links_small[links_small['tmdbId'].notnull()]['tmdbId'].astype('int')\n",
    "links_small.head()"
   ]
  },
  {
   "cell_type": "code",
   "execution_count": 22,
   "id": "359510ed",
   "metadata": {},
   "outputs": [],
   "source": [
    "md = md.drop([19730,29503,35587])"
   ]
  },
  {
   "cell_type": "code",
   "execution_count": 23,
   "id": "debef71e",
   "metadata": {},
   "outputs": [],
   "source": [
    "md['id'] = md['id'].astype('int')"
   ]
  },
  {
   "cell_type": "code",
   "execution_count": 24,
   "id": "183e9a50",
   "metadata": {},
   "outputs": [
    {
     "data": {
      "text/plain": [
       "(9099, 25)"
      ]
     },
     "execution_count": 24,
     "metadata": {},
     "output_type": "execute_result"
    }
   ],
   "source": [
    "smd = md[md['id'].isin(links_small)]\n",
    "smd.shape"
   ]
  },
  {
   "cell_type": "code",
   "execution_count": 31,
   "id": "9977a7b6",
   "metadata": {},
   "outputs": [],
   "source": [
    "#영화 내용 기반 추천 시스템"
   ]
  },
  {
   "cell_type": "code",
   "execution_count": 25,
   "id": "36a7c75d",
   "metadata": {},
   "outputs": [
    {
     "data": {
      "text/plain": [
       "0    Led by Woody, Andy's toys live happily in his ...\n",
       "1    When siblings Judy and Peter discover an encha...\n",
       "2    A family wedding reignites the ancient feud be...\n",
       "3    Cheated on, mistreated and stepped on, the wom...\n",
       "4    Just when George Banks has recovered from his ...\n",
       "Name: description, dtype: object"
      ]
     },
     "execution_count": 25,
     "metadata": {},
     "output_type": "execute_result"
    }
   ],
   "source": [
    "smd['tagline'] = smd['tagline'].fillna('')\n",
    "smd['description'] = smd['overview'] + smd['tagline']\n",
    "smd['description'] = smd['description'].fillna('')\n",
    "\n",
    "smd['description'].head()"
   ]
  },
  {
   "cell_type": "code",
   "execution_count": 26,
   "id": "919e9c40",
   "metadata": {},
   "outputs": [],
   "source": [
    "tf = TfidfVectorizer(analyzer='word', ngram_range=(1,2), min_df=0, stop_words='english')\n",
    "tfidf_matrix = tf.fit_transform(smd['description'])"
   ]
  },
  {
   "cell_type": "code",
   "execution_count": 27,
   "id": "8fbec7e3",
   "metadata": {},
   "outputs": [
    {
     "name": "stdout",
     "output_type": "stream",
     "text": [
      "  (0, 237880)\t0.14118434571637967\n",
      "  (0, 264587)\t0.15239448296082492\n",
      "  (0, 149397)\t0.1346268358004416\n",
      "  (0, 184592)\t0.13757548758984955\n",
      "  (0, 192607)\t0.15239448296082492\n",
      "  (0, 12515)\t0.15239448296082492\n",
      "  (0, 59410)\t0.15239448296082492\n",
      "  (0, 204261)\t0.15239448296082492\n",
      "  (0, 260369)\t0.15239448296082492\n",
      "  (0, 221301)\t0.15239448296082492\n",
      "  (0, 51585)\t0.15239448296082492\n",
      "  (0, 15732)\t0.15239448296082492\n",
      "  (0, 213978)\t0.15239448296082492\n",
      "  (0, 142130)\t0.15239448296082492\n",
      "  (0, 256956)\t0.14583697304488685\n",
      "  (0, 255009)\t0.15239448296082492\n",
      "  (0, 73255)\t0.15239448296082492\n",
      "  (0, 232769)\t0.15239448296082492\n",
      "  (0, 51809)\t0.15239448296082492\n",
      "  (0, 255952)\t0.15239448296082492\n",
      "  (0, 154810)\t0.14583697304488685\n",
      "  (0, 184597)\t0.14583697304488685\n",
      "  (0, 264425)\t0.13213378623513553\n",
      "  (0, 213982)\t0.15239448296082492\n",
      "  (0, 10509)\t0.15239448296082492\n",
      "  :\t:\n",
      "  (0, 259727)\t0.15239448296082492\n",
      "  (0, 237762)\t0.08073572734141646\n",
      "  (0, 192601)\t0.13213378623513553\n",
      "  (0, 12513)\t0.13757548758984955\n",
      "  (0, 59409)\t0.14583697304488685\n",
      "  (0, 204257)\t0.12997420847193442\n",
      "  (0, 260302)\t0.08551722235900829\n",
      "  (0, 221296)\t0.13213378623513553\n",
      "  (0, 51582)\t0.13757548758984955\n",
      "  (0, 15707)\t0.08551722235900829\n",
      "  (0, 142127)\t0.14118434571637967\n",
      "  (0, 256936)\t0.10099642406710585\n",
      "  (0, 254988)\t0.12212218310011222\n",
      "  (0, 73227)\t0.11778360077328373\n",
      "  (0, 232767)\t0.12636535034540428\n",
      "  (0, 51806)\t0.14118434571637967\n",
      "  (0, 255905)\t0.14315104254939334\n",
      "  (0, 154477)\t0.06646501530440348\n",
      "  (0, 184517)\t0.16690994746509116\n",
      "  (0, 213976)\t0.2692536716008832\n",
      "  (0, 10484)\t0.11361377972812743\n",
      "  (0, 185549)\t0.09065134912997759\n",
      "  (0, 259711)\t0.1075539339830439\n",
      "  (0, 148481)\t0.04868409542320115\n",
      "  (0, 263896)\t0.10019469108879503\n"
     ]
    }
   ],
   "source": [
    "print(tfidf_matrix[10])"
   ]
  },
  {
   "cell_type": "code",
   "execution_count": 28,
   "id": "7c88bd4f",
   "metadata": {},
   "outputs": [],
   "source": [
    "cosine_sim = linear_kernel(tfidf_matrix, tfidf_matrix)"
   ]
  },
  {
   "cell_type": "code",
   "execution_count": 29,
   "id": "247c90f6",
   "metadata": {},
   "outputs": [
    {
     "data": {
      "text/plain": [
       "array([1.        , 0.00680476, 0.        , ..., 0.        , 0.00344913,\n",
       "       0.        ])"
      ]
     },
     "execution_count": 29,
     "metadata": {},
     "output_type": "execute_result"
    }
   ],
   "source": [
    "cosine_sim[0]"
   ]
  },
  {
   "cell_type": "code",
   "execution_count": 30,
   "id": "0650a4cb",
   "metadata": {},
   "outputs": [
    {
     "name": "stdout",
     "output_type": "stream",
     "text": [
      "0                      Toy Story\n",
      "1                        Jumanji\n",
      "2               Grumpier Old Men\n",
      "3              Waiting to Exhale\n",
      "4    Father of the Bride Part II\n",
      "Name: title, dtype: object title\n",
      "Toy Story                      0\n",
      "Jumanji                        1\n",
      "Grumpier Old Men               2\n",
      "Waiting to Exhale              3\n",
      "Father of the Bride Part II    4\n",
      "dtype: int64\n"
     ]
    }
   ],
   "source": [
    "smd = smd.reset_index()\n",
    "titles = smd['title']\n",
    "indices = pd.Series(smd.index, index=smd['title'])\n",
    "\n",
    "print(titles.head(), indices.head())"
   ]
  },
  {
   "cell_type": "code",
   "execution_count": 33,
   "id": "da54b038",
   "metadata": {},
   "outputs": [],
   "source": [
    "def get_recommendations(title):\n",
    "    idx = indices[title]\n",
    "    sim_scores = list(enumerate(cosine_sim[idx]))\n",
    "    sim_scores = sorted(sim_scores, key=lambda x : x[1], reverse=True)\n",
    "    sim_scores = sim_scores[1:31]\n",
    "    movie_indices = [i[0] for i in sim_scores]\n",
    "    return titles.iloc[movie_indices]"
   ]
  },
  {
   "cell_type": "code",
   "execution_count": 34,
   "id": "d23cbea6",
   "metadata": {},
   "outputs": [
    {
     "data": {
      "text/plain": [
       "973      The Godfather: Part II\n",
       "8387                 The Family\n",
       "3509                       Made\n",
       "4196         Johnny Dangerously\n",
       "29               Shanghai Triad\n",
       "5667                       Fury\n",
       "2412             American Movie\n",
       "1582    The Godfather: Part III\n",
       "4221                    8 Women\n",
       "2159              Summer of Sam\n",
       "Name: title, dtype: object"
      ]
     },
     "execution_count": 34,
     "metadata": {},
     "output_type": "execute_result"
    }
   ],
   "source": [
    "get_recommendations('The Godfather').head(10)"
   ]
  },
  {
   "cell_type": "code",
   "execution_count": 35,
   "id": "2efdbe98",
   "metadata": {},
   "outputs": [
    {
     "data": {
      "text/plain": [
       "5239                              Cypher\n",
       "141                                Crumb\n",
       "6398                         Renaissance\n",
       "653                            Lone Star\n",
       "1703                               House\n",
       "4739                    The Pink Panther\n",
       "319                                 Cobb\n",
       "2828    What Ever Happened to Baby Jane?\n",
       "8867                     Pitch Perfect 2\n",
       "979          Once Upon a Time in America\n",
       "Name: title, dtype: object"
      ]
     },
     "execution_count": 35,
     "metadata": {},
     "output_type": "execute_result"
    }
   ],
   "source": [
    "get_recommendations('Inception').head(10)"
   ]
  },
  {
   "cell_type": "code",
   "execution_count": 36,
   "id": "d644471f",
   "metadata": {},
   "outputs": [],
   "source": [
    "#메타 데이터 기반 추천시스템"
   ]
  },
  {
   "cell_type": "code",
   "execution_count": null,
   "id": "1ff27332",
   "metadata": {},
   "outputs": [],
   "source": []
  }
 ],
 "metadata": {
  "kernelspec": {
   "display_name": "Python 3",
   "language": "python",
   "name": "python3"
  },
  "language_info": {
   "codemirror_mode": {
    "name": "ipython",
    "version": 3
   },
   "file_extension": ".py",
   "mimetype": "text/x-python",
   "name": "python",
   "nbconvert_exporter": "python",
   "pygments_lexer": "ipython3",
   "version": "3.8.8"
  }
 },
 "nbformat": 4,
 "nbformat_minor": 5
}
